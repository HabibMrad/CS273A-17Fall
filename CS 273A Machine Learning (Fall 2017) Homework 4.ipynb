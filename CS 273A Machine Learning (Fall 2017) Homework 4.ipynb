{
 "cells": [
  {
   "cell_type": "markdown",
   "metadata": {},
   "source": [
    "#### Author: Chenxi Wang"
   ]
  },
  {
   "cell_type": "code",
   "execution_count": 10,
   "metadata": {
    "collapsed": true
   },
   "outputs": [],
   "source": [
    "import numpy as np\n",
    "import mltools as ml\n",
    "import matplotlib.pyplot as plt   # use matplotlib for plotting with inline plots\n",
    "%matplotlib inline\n",
    "np.random.seed(1015)"
   ]
  },
  {
   "cell_type": "markdown",
   "metadata": {},
   "source": [
    "# Problem 1: Setting Up the Data"
   ]
  },
  {
   "cell_type": "code",
   "execution_count": 11,
   "metadata": {
    "collapsed": true
   },
   "outputs": [],
   "source": [
    "# Data Loading\n",
    "X = np.genfromtxt('data/X_train.txt', delimiter=None)\n",
    "Y = np.genfromtxt('data/Y_train.txt', delimiter=None)\n",
    "X,Y = ml.shuffleData(X,Y)"
   ]
  },
  {
   "cell_type": "code",
   "execution_count": 12,
   "metadata": {},
   "outputs": [
    {
     "name": "stdout",
     "output_type": "stream",
     "text": [
      "(200000, 14)\n",
      "(200000,)\n"
     ]
    }
   ],
   "source": [
    "print X.shape\n",
    "print Y.shape"
   ]
  },
  {
   "cell_type": "markdown",
   "metadata": {},
   "source": [
    "## Question 1: Min, max, mean, and var of all the features"
   ]
  },
  {
   "cell_type": "code",
   "execution_count": 4,
   "metadata": {
    "scrolled": true
   },
   "outputs": [
    {
     "name": "stdout",
     "output_type": "stream",
     "text": [
      "Min: [  1.93500000e+02   1.52500000e+02   2.14250000e+02   1.52500000e+02\n",
      "   1.00000000e+01   0.00000000e+00   0.00000000e+00   0.00000000e+00\n",
      "   8.75890000e-01   0.00000000e+00   0.00000000e+00   0.00000000e+00\n",
      "   9.90490000e-01  -9.99900000e+02]\n",
      "Max:  [  2.53000000e+02   2.49000000e+02   2.52500000e+02   2.52500000e+02\n",
      "   3.10480000e+04   1.36300000e+04   9.23800000e+03   1.25170000e+02\n",
      "   1.91670000e+01   1.32300000e+01   6.67610000e+01   7.39020000e+01\n",
      "   9.75040000e+02   7.97200000e+02]\n",
      "Mean: [  2.41601104e+02   2.27376571e+02   2.41554150e+02   2.32826768e+02\n",
      "   3.08992337e+03   9.28259020e+02   1.38093830e+02   3.24857933e+00\n",
      "   6.49865290e+00   2.09713912e+00   4.21766041e+00   2.69171845e+00\n",
      "   1.02715905e+01   5.78148050e+00]\n",
      "Var:  [  8.34991711e+01   9.26255931e+01   3.52863398e+01   9.76257317e+01\n",
      "   1.56515138e+07   3.08176182e+06   4.43951746e+05   8.21948502e+00\n",
      "   6.40504819e+00   4.36344047e+00   4.08637188e+00   2.19877847e+00\n",
      "   4.04646245e+02   3.40652055e+03]\n"
     ]
    }
   ],
   "source": [
    "print 'Min:', np.min(X,axis=0)\n",
    "print 'Max: ', np.max(X,axis=0)\n",
    "print 'Mean:', np.mean(X,axis=0)\n",
    "print 'Var: ', np.var(X,axis=0)"
   ]
  },
  {
   "cell_type": "markdown",
   "metadata": {},
   "source": [
    "## Question 2: Min, max, mean, and var of the rescaled features"
   ]
  },
  {
   "cell_type": "code",
   "execution_count": 13,
   "metadata": {
    "collapsed": true
   },
   "outputs": [],
   "source": [
    "Xtr, Xva, Ytr, Yva = ml.splitData(X, Y)\n",
    "Xt, Yt = Xtr[:5000], Ytr[:5000]\n",
    "# subsample for efficiency \n",
    "XtS, params = ml.rescale(Xt) # Normalize the features\n",
    "XvS, _ = ml.rescale(Xva, params) # Normalize the features"
   ]
  },
  {
   "cell_type": "code",
   "execution_count": 14,
   "metadata": {},
   "outputs": [
    {
     "name": "stdout",
     "output_type": "stream",
     "text": [
      "(160000, 14)\n",
      "(40000, 14)\n"
     ]
    }
   ],
   "source": [
    "print Xtr.shape\n",
    "print Xva.shape"
   ]
  },
  {
   "cell_type": "code",
   "execution_count": 6,
   "metadata": {},
   "outputs": [
    {
     "name": "stdout",
     "output_type": "stream",
     "text": [
      "Min: [ -4.96595653  -3.72381682  -4.37149489  -2.66102087  -0.7523898\n",
      "  -0.52427348  -0.20823371  -1.1534788   -2.14016639  -1.00225435\n",
      "  -2.13223957  -1.84246917  -0.58771662 -19.46323418]\n",
      "Max:  [  1.25737502   1.68713468   1.79941665   1.94475467   7.06595521\n",
      "   7.43475247  15.52027188   8.16587388   4.60231585   4.38870522\n",
      "   7.23989082  11.55664522  29.72711867  12.0454918 ]\n",
      "Mean: [ -1.91260008e-14   1.11883836e-15   1.33668632e-14   1.61768376e-14\n",
      "  -1.65201186e-17   2.47801779e-17   3.86246590e-17  -2.20548024e-15\n",
      "  -9.69215819e-15   3.60556029e-15   1.20001786e-15   4.90714136e-15\n",
      "   2.71693779e-16   1.35358391e-16]\n",
      "Var:  [ 1.  1.  1.  1.  1.  1.  1.  1.  1.  1.  1.  1.  1.  1.]\n"
     ]
    }
   ],
   "source": [
    "## Training data subsample:\n",
    "print 'Min:', np.min(XtS,axis=0)\n",
    "print 'Max: ', np.max(XtS,axis=0)\n",
    "print 'Mean:', np.mean(XtS,axis=0)\n",
    "print 'Var: ', np.var(XtS,axis=0)"
   ]
  },
  {
   "cell_type": "code",
   "execution_count": 7,
   "metadata": {},
   "outputs": [
    {
     "name": "stdout",
     "output_type": "stream",
     "text": [
      "Min: [ -5.18821837  -3.93395086  -4.66835379  -2.77823675  -0.75289363\n",
      "  -0.52427348  -0.20823371  -1.1534788   -2.23026098  -1.00225435\n",
      "  -2.13223957  -1.84246917  -0.58968996 -19.46323418]\n",
      "Max:  [  1.25737502   2.26500329   1.85742356   1.97911105   7.06595521\n",
      "   7.43475247  15.6889145    9.37169596   4.47106587   4.44186295\n",
      "   8.84160019  29.82606178  61.61283427  14.69104124]\n",
      "Mean: [-0.00606725 -0.00829903 -0.01282366 -0.01128132  0.02532119  0.01904614\n",
      "  0.03112265 -0.01188227 -0.00071066  0.00280182 -0.02274993 -0.01159353\n",
      "  0.01136951 -0.02288047]\n",
      "Var:  [ 1.0193737   1.02293341  1.0310364   0.99452865  1.00168114  1.04849157\n",
      "  1.32675477  0.98772854  1.00951961  1.00331393  1.0134529   1.02848094\n",
      "  1.87220677  1.39701562]\n"
     ]
    }
   ],
   "source": [
    "## Validation data:\n",
    "print 'Min:', np.min(XvS,axis=0)\n",
    "print 'Max: ', np.max(XvS,axis=0)\n",
    "print 'Mean:', np.mean(XvS,axis=0)\n",
    "print 'Var: ', np.var(XvS,axis=0)"
   ]
  },
  {
   "cell_type": "markdown",
   "metadata": {},
   "source": [
    "# Problem 2: Linear Classfiers"
   ]
  },
  {
   "cell_type": "markdown",
   "metadata": {},
   "source": [
    "## Question 1: Training and validation AUC on the rescaled data"
   ]
  },
  {
   "cell_type": "code",
   "execution_count": 9,
   "metadata": {
    "scrolled": true
   },
   "outputs": [
    {
     "name": "stderr",
     "output_type": "stream",
     "text": [
      "mltools/linearC.py:122: RuntimeWarning: overflow encountered in exp\n",
      "  sigx  = np.exp(respi) / (1.0+np.exp(respi))\n",
      "mltools/linearC.py:122: RuntimeWarning: invalid value encountered in divide\n",
      "  sigx  = np.exp(respi) / (1.0+np.exp(respi))\n"
     ]
    },
    {
     "data": {
      "image/png": "[encoded data removed]",
      "text/plain": [
       "<matplotlib.figure.Figure at 0x10967ef90>"
      ]
     },
     "metadata": {},
     "output_type": "display_data"
    },
    {
     "name": "stdout",
     "output_type": "stream",
     "text": [
      "Train AUC: [ 0.64871367  0.60733927  0.60172746  0.59830444  0.49744525  0.49744525\n",
      "  0.49744525  0.49744525]\n",
      "Validation AUC: [ 0.64519434  0.60165134  0.59647985  0.59333425  0.50069804  0.50069804\n",
      "  0.50069804  0.50069804]\n"
     ]
    }
   ],
   "source": [
    "Reg = np.linspace( 0, 8, 8 )\n",
    "\n",
    "auc_tr = np.zeros(Reg.shape[0])\n",
    "auc_va = np.zeros(Reg.shape[0])\n",
    "\n",
    "for i, reg in enumerate(Reg):\n",
    "    learner = ml.linearC.linearClassify()\n",
    "    learner.train(XtS, Yt, reg=reg, \n",
    "                  initStep=0.5, stopTol=1e-6, stopIter=100)\n",
    "    auc_tr[i] = learner.auc(XtS, Yt)\n",
    "    auc_va[i] = learner.auc(XvS, Yva)\n",
    "\n",
    "plt.plot(Reg, auc_tr, marker='^', \n",
    "         color = \"lightgreen\", label = \"Training AUC\")\n",
    "plt.plot(Reg, auc_va, marker='o', \n",
    "         color = \"darkorange\", label = \"Validation AUC\")\n",
    "\n",
    "plt.xticks(Reg)\n",
    "plt.xlabel(\"Regularization Weight\")\n",
    "plt.ylabel(\"AUC\")\n",
    "plt.title(\"Plot of Training & Validation AUC vs. Reg\")\n",
    "plt.legend()\n",
    "plt.show()\n",
    "\n",
    "print 'Train AUC:',auc_tr\n",
    "print 'Validation AUC:', auc_va"
   ]
  },
  {
   "cell_type": "markdown",
   "metadata": {},
   "source": [
    "## Question 2: Adding degree 2 polynomial features"
   ]
  },
  {
   "cell_type": "code",
   "execution_count": 20,
   "metadata": {
    "collapsed": true
   },
   "outputs": [],
   "source": [
    "def Phi(Xtr, Xte):\n",
    "    XtrP = ml.transforms.fpoly(Xtr, degree, bias=False)\n",
    "    XtrP,params = ml.transforms.rescale(XtrP)\n",
    "    XteP,_ = ml.transforms.rescale(\\\n",
    "    ml.transforms.fpoly(Xte,degree,False), params)\n",
    "    \n",
    "    return XtrP, XteP"
   ]
  },
  {
   "cell_type": "code",
   "execution_count": 21,
   "metadata": {},
   "outputs": [
    {
     "name": "stdout",
     "output_type": "stream",
     "text": [
      "Number of Features: 119\n"
     ]
    }
   ],
   "source": [
    "degree = 2\n",
    "XtP = Phi(Xt, Xva)[0]\n",
    "XvaP = Phi(Xt, Xva)[1]\n",
    "\n",
    "print \"Number of Features:\", XtP.shape[1]"
   ]
  },
  {
   "cell_type": "markdown",
   "metadata": {},
   "source": [
    "The number of features is 119, because there are 14 original features, 14 degree 2 features, and $14*13/2$ combinations of any two of the 14 features: 14+14+14*13/2 = 119."
   ]
  },
  {
   "cell_type": "markdown",
   "metadata": {},
   "source": [
    "## Question 3: Training and validation AUC for the transformed data"
   ]
  },
  {
   "cell_type": "code",
   "execution_count": 23,
   "metadata": {},
   "outputs": [
    {
     "data": {
      "image/png": "[encoded data removed]",
      "text/plain": [
       "<matplotlib.figure.Figure at 0x117e37390>"
      ]
     },
     "metadata": {},
     "output_type": "display_data"
    },
    {
     "name": "stdout",
     "output_type": "stream",
     "text": [
      "Train AUC: [ 0.49744525  0.59955123  0.59113782  0.58474439  0.49744525  0.49744525\n",
      "  0.49744525  0.49744525]\n",
      "Validation AUC: [ 0.50069804  0.59430188  0.58596512  0.58027589  0.50069804  0.50069804\n",
      "  0.50069804  0.50069804]\n"
     ]
    }
   ],
   "source": [
    "Reg = np.linspace( 0, 8, 8 )\n",
    "\n",
    "auc_tr = np.zeros(Reg.shape[0])\n",
    "auc_va = np.zeros(Reg.shape[0])\n",
    "\n",
    "for i, reg in enumerate(Reg):\n",
    "    learner = ml.linearC.linearClassify()\n",
    "    learner.train(XtP, Yt, reg=reg, initStep=0.5, stopTol=1e-6, stopIter=100)\n",
    "    auc_tr[i] = learner.auc(XtP, Yt)\n",
    "    auc_va[i] = learner.auc(XvaP, Yva)\n",
    "\n",
    "plt.plot(Reg, auc_tr, marker='^', \n",
    "         color = \"lightgreen\", label = \"Training AUC\")\n",
    "plt.plot(Reg, auc_va, marker='o', \n",
    "         color = \"darkorange\", label = \"Validation AUC\")\n",
    "\n",
    "plt.xticks(Reg)\n",
    "plt.xlabel(\"Regularization Weight\")\n",
    "plt.ylabel(\"AUC\")\n",
    "plt.title(\"Plot of Training & Validation AUC vs. Reg (Degree 2)\")\n",
    "plt.legend()\n",
    "plt.show()\n",
    "\n",
    "print 'Train AUC:',auc_tr\n",
    "print 'Validation AUC:', auc_va    "
   ]
  },
  {
   "cell_type": "markdown",
   "metadata": {},
   "source": [
    "# Problem 3: Nearest Neighbors"
   ]
  },
  {
   "cell_type": "markdown",
   "metadata": {},
   "source": [
    "## Question 1: KNN AUC on the rescaled data"
   ]
  },
  {
   "cell_type": "code",
   "execution_count": 24,
   "metadata": {},
   "outputs": [
    {
     "data": {
      "image/png": "[encoded data removed]",
      "text/plain": [
       "<matplotlib.figure.Figure at 0x10b461d10>"
      ]
     },
     "metadata": {},
     "output_type": "display_data"
    },
    {
     "name": "stdout",
     "output_type": "stream",
     "text": [
      "Train AUC: [ 0.99581922  0.91638633  0.86978366  0.82226519  0.78166649  0.76333356\n",
      "  0.7126086 ]\n",
      "Validation AUC: [ 0.57531506  0.59662393  0.60467698  0.61883223  0.63216545  0.63869132\n",
      "  0.64913928]\n"
     ]
    }
   ],
   "source": [
    "Ks = np.array([1,2,3,5,8,10,20])\n",
    "auc_tr = np.zeros(Ks.shape[0])\n",
    "auc_va = np.zeros(Ks.shape[0])\n",
    "\n",
    "learner = ml.knn.knnClassify()\n",
    "\n",
    "for i, k in enumerate(Ks):\n",
    "    learner.train(XtS, Yt, K=k, alpha=0.0)\n",
    "    auc_tr[i] = learner.auc(XtS, Yt)\n",
    "    auc_va[i] = learner.auc(XvS, Yva)\n",
    "\n",
    "plt.plot(Ks, auc_tr, marker='^', \n",
    "         color = \"lightgreen\", label = \"Training AUC\")\n",
    "plt.plot(Ks, auc_va, marker='o', \n",
    "         color = \"darkorange\", label = \"Validation AUC\")\n",
    "plt.xticks(Ks)\n",
    "plt.xlabel(\"Value of K\")\n",
    "plt.ylabel(\"AUC\")\n",
    "plt.title(\"Plot of Training & Validation AUC vs. K on Rescaled Data\")\n",
    "plt.legend()\n",
    "plt.show()\n",
    "\n",
    "print 'Train AUC:',auc_tr\n",
    "print 'Validation AUC:', auc_va    "
   ]
  },
  {
   "cell_type": "markdown",
   "metadata": {},
   "source": [
    "## Question 2: KNN AUC on the original data"
   ]
  },
  {
   "cell_type": "code",
   "execution_count": 25,
   "metadata": {},
   "outputs": [
    {
     "data": {
      "image/png": "[encoded data removed]",
      "text/plain": [
       "<matplotlib.figure.Figure at 0x10b58d710>"
      ]
     },
     "metadata": {},
     "output_type": "display_data"
    },
    {
     "name": "stdout",
     "output_type": "stream",
     "text": [
      "Train AUC: [ 0.99581922  0.91194166  0.85813596  0.79015228  0.75082808  0.73266146\n",
      "  0.68598389]\n",
      "Validation AUC: [ 0.55633021  0.56793061  0.57123356  0.57657049  0.57958244  0.58210148\n",
      "  0.58740477]\n"
     ]
    }
   ],
   "source": [
    "Ks = np.array([1,2,3,5,8,10,20])\n",
    "auc_tr = np.zeros(Ks.shape[0])\n",
    "auc_va = np.zeros(Ks.shape[0])\n",
    "\n",
    "learner = ml.knn.knnClassify()\n",
    "\n",
    "for i, k in enumerate(Ks):\n",
    "    learner.train(Xt, Yt, K=k, alpha=0.0)\n",
    "    auc_tr[i] = learner.auc(Xt, Yt)\n",
    "    auc_va[i] = learner.auc(Xva, Yva)\n",
    "\n",
    "plt.plot(Ks, auc_tr, marker='^', \n",
    "         color = \"lightgreen\", label = \"Training AUC\")\n",
    "plt.plot(Ks, auc_va, marker='o', \n",
    "         color = \"darkorange\", label = \"Validation AUC\")\n",
    "plt.xticks(Ks)\n",
    "plt.xlabel(\"Value of K\")\n",
    "plt.ylabel(\"AUC\")\n",
    "plt.title(\"Plot of Training & Validation AUC vs. K on Original Data\")\n",
    "plt.legend()\n",
    "plt.show()\n",
    "\n",
    "print 'Train AUC:',auc_tr\n",
    "print 'Validation AUC:', auc_va    "
   ]
  },
  {
   "cell_type": "markdown",
   "metadata": {},
   "source": [
    "## Question 3: "
   ]
  },
  {
   "cell_type": "code",
   "execution_count": 14,
   "metadata": {},
   "outputs": [
    {
     "name": "stderr",
     "output_type": "stream",
     "text": [
      "mltools/knn.py:103: RuntimeWarning: invalid value encountered in divide\n",
      "  prob[i,:] = count / count.sum()    # save (soft) results\n"
     ]
    },
    {
     "data": {
      "image/png": "[encoded data removed]",
      "text/plain": [
       "<matplotlib.figure.Figure at 0x10e3e0e50>"
      ]
     },
     "metadata": {},
     "output_type": "display_data"
    },
    {
     "name": "stdout",
     "output_type": "stream",
     "text": [
      "Train AUC: [[ 0.99581922  0.99581922  0.99581922  0.99581922  0.99581922]\n",
      " [ 0.77487202  0.99996861  0.99997004  0.99997363  0.99997363]\n",
      " [ 0.72533913  0.99996861  0.99997004  0.99997363  0.99997363]\n",
      " [ 0.6970962   0.99996861  0.99997004  0.99997363  0.99997363]\n",
      " [ 0.6841077   0.99996861  0.99997004  0.99997363  0.99997363]]\n"
     ]
    }
   ],
   "source": [
    "K = range(1,25,5) \n",
    "A = range(0,5,1)\n",
    "\n",
    "tr_auc = np.zeros((len(K),len(A)))\n",
    "va_auc = np.zeros((len(K),len(A)))\n",
    "\n",
    "learner = ml.knn.knnClassify()\n",
    "for i,k in enumerate(K):\n",
    "    for j,a in enumerate(A):\n",
    "        learner.train(Xt, Yt, K=k, alpha=a)\n",
    "        tr_auc[i][j] = learner.auc(Xt, Yt) \n",
    "        va_auc[i][j] = learner.auc(Xva, Yva)\n",
    "\n",
    "# Now plot it\n",
    "f, ax = plt.subplots(1, 1, figsize=(8, 5))\n",
    "\n",
    "cax1 = ax.matshow(tr_auc, interpolation='nearest')\n",
    "f.colorbar(cax1)\n",
    "ax.set_xticklabels(['']+K)\n",
    "ax.set_yticklabels(['']+A)\n",
    "ax.set_xlabel(\"Value of K\")\n",
    "ax.set_ylabel(\"Valure of A\")\n",
    "ax.set_title(\"Training AUC for Unscaled Data\")\n",
    "\n",
    "plt.show()\n",
    "\n",
    "print 'Train AUC:',tr_auc"
   ]
  },
  {
   "cell_type": "code",
   "execution_count": 15,
   "metadata": {},
   "outputs": [
    {
     "data": {
      "image/png": "[encoded data removed]",
      "text/plain": [
       "<matplotlib.figure.Figure at 0x1137510d0>"
      ]
     },
     "metadata": {},
     "output_type": "display_data"
    },
    {
     "name": "stdout",
     "output_type": "stream",
     "text": [
      "Validation AUC: [[ 0.55633021  0.5601514   0.55800723  0.55387183  0.55260058]\n",
      " [ 0.57648023  0.56567646  0.56171123  0.55618292  0.55435489]\n",
      " [ 0.58440001  0.56462195  0.56093725  0.55559858  0.55402338]\n",
      " [ 0.5864064   0.56421772  0.56068502  0.55543542  0.55389522]\n",
      " [ 0.58815704  0.56407828  0.56061919  0.55537802  0.55385499]]\n"
     ]
    }
   ],
   "source": [
    "f, ax = plt.subplots(1, 1, figsize=(8, 5))\n",
    "cax2 = ax.matshow(va_auc, interpolation='nearest')\n",
    "f.colorbar(cax2)\n",
    "ax.set_xticklabels(['']+K)\n",
    "ax.set_yticklabels(['']+A)\n",
    "ax.set_xlabel(\"Value of K\")\n",
    "ax.set_ylabel(\"Valure of A\")\n",
    "ax.set_title(\"Validation AUC for Unscaled Data\")\n",
    "\n",
    "plt.show()\n",
    "\n",
    "print 'Validation AUC:',va_auc"
   ]
  },
  {
   "cell_type": "markdown",
   "metadata": {},
   "source": [
    "Based on the results so far, I recommend k = 1, and $\\alpha$ = 4. "
   ]
  },
  {
   "cell_type": "markdown",
   "metadata": {},
   "source": [
    "# Problem 4: Decision Trees"
   ]
  },
  {
   "cell_type": "markdown",
   "metadata": {},
   "source": [
    "## Question 1: Varying maxDepth"
   ]
  },
  {
   "cell_type": "code",
   "execution_count": 7,
   "metadata": {},
   "outputs": [
    {
     "data": {
      "image/png": "[encoded data removed]",
      "text/plain": [
       "<matplotlib.figure.Figure at 0x10e040a90>"
      ]
     },
     "metadata": {},
     "output_type": "display_data"
    },
    {
     "name": "stdout",
     "output_type": "stream",
     "text": [
      "Train AUC: [ 0.61304042  0.67733548  0.74443438  0.82506078  0.86042826  0.87888819\n",
      "  0.88902881  0.89708531  0.89985211  0.89969002]\n",
      "Validation AUC: [ 0.60460704  0.63030613  0.62676844  0.61204064  0.60654682  0.60300957\n",
      "  0.60313137  0.60172181  0.60212378  0.60320315]\n"
     ]
    }
   ],
   "source": [
    "maxd = np.array(range(1,30,3))\n",
    "auc_tr = np.zeros(maxd.shape[0])\n",
    "auc_va = np.zeros(maxd.shape[0])\n",
    "\n",
    "learner = ml.dtree.treeClassify()\n",
    "for i, d in enumerate(maxd): \n",
    "    learner.train(XtS, Yt, maxDepth = d, minParent = 5, minLeaf= 9)\n",
    "    auc_tr[i] = learner.auc(XtS, Yt)\n",
    "    auc_va[i] = learner.auc(XvS, Yva)\n",
    "    \n",
    "plt.plot(maxd, auc_tr, marker='^', \n",
    "         color = \"lightgreen\", label = \"Training AUC\")\n",
    "plt.plot(maxd, auc_va, marker='o', \n",
    "         color = \"darkorange\", label = \"Validation AUC\")\n",
    "plt.xticks(maxd)\n",
    "plt.xlabel(\"maxDepth\")\n",
    "plt.ylabel(\"AUC\")\n",
    "plt.title(\"Plot of Training & Validation AUC vs. maxDepth\")\n",
    "plt.legend()\n",
    "plt.show()\n",
    "\n",
    "print 'Train AUC:', auc_tr\n",
    "print 'Validation AUC:', auc_va"
   ]
  },
  {
   "cell_type": "code",
   "execution_count": 29,
   "metadata": {},
   "outputs": [
    {
     "data": {
      "image/png": "[encoded data removed]",
      "text/plain": [
       "<matplotlib.figure.Figure at 0x10b595e10>"
      ]
     },
     "metadata": {},
     "output_type": "display_data"
    },
    {
     "name": "stdout",
     "output_type": "stream",
     "text": [
      "Train AUC: [ 0.61304042  0.67565752  0.74185775  0.82738501  0.88776336  0.94314764\n",
      "  0.98235479  0.98842154  0.99200718  0.99546994]\n",
      "Validation AUC: [ 0.60460704  0.63119561  0.63182031  0.61188022  0.61177081  0.59419343\n",
      "  0.59228499  0.58546516  0.58316589  0.57720699]\n"
     ]
    }
   ],
   "source": [
    "maxd = np.array(range(1,30,3))\n",
    "auc_tr = np.zeros(maxd.shape[0])\n",
    "auc_va = np.zeros(maxd.shape[0])\n",
    "\n",
    "learner = ml.dtree.treeClassify()\n",
    "for i, d in enumerate(maxd): \n",
    "    learner.train(XtS, Yt, maxDepth = d)\n",
    "    auc_tr[i] = learner.auc(XtS, Yt)\n",
    "    auc_va[i] = learner.auc(XvS, Yva)\n",
    "    \n",
    "plt.plot(maxd, auc_tr, marker='^', \n",
    "         color = \"lightgreen\", label = \"Training AUC\")\n",
    "plt.plot(maxd, auc_va, marker='o', \n",
    "         color = \"darkorange\", label = \"Validation AUC\")\n",
    "plt.xticks(maxd)\n",
    "plt.xlabel(\"maxDepth\")\n",
    "plt.ylabel(\"AUC\")\n",
    "plt.title(\"Plot of Training & Validation AUC vs. maxDepth\")\n",
    "plt.legend()\n",
    "plt.show()\n",
    "\n",
    "print 'Train AUC:', auc_tr\n",
    "print 'Validation AUC:', auc_va"
   ]
  },
  {
   "cell_type": "markdown",
   "metadata": {},
   "source": [
    "## Question 2: Plot the number of nodes in the tree as maxDepth is varied"
   ]
  },
  {
   "cell_type": "code",
   "execution_count": 31,
   "metadata": {},
   "outputs": [
    {
     "data": {
      "image/png": "[encoded data removed]",
      "text/plain": [
       "<matplotlib.figure.Figure at 0x10b650950>"
      ]
     },
     "metadata": {},
     "output_type": "display_data"
    }
   ],
   "source": [
    "## Plot the number of nodes in the tree as maxDepth is varied:\n",
    "maxd = np.array(range(1,30,3))\n",
    "Nodes = np.zeros(maxd.shape[0])\n",
    "\n",
    "learner = ml.dtree.treeClassify()\n",
    "for i, d in enumerate(maxd): \n",
    "    learner.train(Xt, Yt, maxDepth = d)\n",
    "    Nodes[i] = learner.sz\n",
    "\n",
    "plt.plot(maxd, Nodes, marker='v', \n",
    "          color = \"red\", label = \"minParent = 2\")\n",
    "\n",
    "## Plot another line by increasing minParent:\n",
    "for i, d in enumerate(maxd): \n",
    "    learner.train(Xt, Yt, maxDepth = d, minParent = 4)\n",
    "    Nodes[i] = learner.sz\n",
    "    \n",
    "plt.plot(maxd, Nodes, marker='o', \n",
    "          color = \"blue\", label = \"minParent = 4\")\n",
    "\n",
    "plt.xticks(maxd)\n",
    "plt.xlabel(\"maxDepth\")\n",
    "plt.ylabel(\"Number of Nodes\")\n",
    "plt.title(\"Plot of Nodes Number vs. maxDepth\")\n",
    "plt.legend()\n",
    "plt.show()"
   ]
  },
  {
   "cell_type": "markdown",
   "metadata": {},
   "source": [
    "## Question 3"
   ]
  },
  {
   "cell_type": "code",
   "execution_count": 32,
   "metadata": {},
   "outputs": [
    {
     "data": {
      "image/png": "[encoded data removed]",
      "text/plain": [
       "<matplotlib.figure.Figure at 0x10a462e50>"
      ]
     },
     "metadata": {},
     "output_type": "display_data"
    },
    {
     "name": "stdout",
     "output_type": "stream",
     "text": [
      "Train AUC: [[ 0.93795517  0.93428853  0.91439739  0.89240653  0.8741773 ]\n",
      " [ 0.94075094  0.93429768  0.91239042  0.89277698  0.87339361]\n",
      " [ 0.93244705  0.92651107  0.91175886  0.89373683  0.87343819]\n",
      " [ 0.91515147  0.91387661  0.90613996  0.89415742  0.87465556]\n",
      " [ 0.90687916  0.9024901   0.89270926  0.88560175  0.87337881]]\n"
     ]
    }
   ],
   "source": [
    "## Set maxDepth = 15:\n",
    "P = range(1,21,4) \n",
    "L = range(1,11,2)\n",
    "\n",
    "tr_auc = np.zeros((len(P),len(L)))\n",
    "va_auc = np.zeros((len(P),len(L)))\n",
    "\n",
    "for i,p in enumerate(P):\n",
    "    for j,l in enumerate(L):\n",
    "        learner = ml.dtree.treeClassify()\n",
    "        learner.train(Xt, Yt, maxDepth = 15, minParent = p, minLeaf= l)\n",
    "        tr_auc[i][j] = learner.auc(Xt, Yt) # train learner using k and a\n",
    "        va_auc[i][j] = learner.auc(Xva, Yva)\n",
    "\n",
    "# Now plot it\n",
    "f, ax = plt.subplots(1, 1, figsize=(8, 5))\n",
    "\n",
    "cax1 = ax.matshow(tr_auc, interpolation='nearest')\n",
    "f.colorbar(cax1)\n",
    "ax.set_xticklabels(['']+L)\n",
    "ax.set_yticklabels(['']+P)\n",
    "ax.set_xlabel(\"minLeaf\")\n",
    "ax.set_ylabel(\"minParent\")\n",
    "ax.set_title(\"Training AUC\")\n",
    "\n",
    "plt.show()\n",
    "\n",
    "print 'Train AUC:',tr_auc"
   ]
  },
  {
   "cell_type": "code",
   "execution_count": 33,
   "metadata": {},
   "outputs": [
    {
     "data": {
      "image/png": "[encoded data removed]",
      "text/plain": [
       "<matplotlib.figure.Figure at 0x10b058690>"
      ]
     },
     "metadata": {},
     "output_type": "display_data"
    },
    {
     "name": "stdout",
     "output_type": "stream",
     "text": [
      "Validation AUC: [[ 0.5943419   0.58707311  0.58654198  0.5903947   0.60260203]\n",
      " [ 0.59002152  0.58736216  0.58653661  0.59342625  0.6038203 ]\n",
      " [ 0.59520043  0.58675224  0.58898664  0.59420234  0.60282579]\n",
      " [ 0.59423663  0.59281186  0.59040349  0.59276543  0.60169204]\n",
      " [ 0.59682895  0.5948069   0.59491163  0.59604387  0.60353626]]\n"
     ]
    }
   ],
   "source": [
    "f, ax = plt.subplots(1, 1, figsize=(8, 5))\n",
    "cax2 = ax.matshow(va_auc, interpolation='nearest')\n",
    "f.colorbar(cax2)\n",
    "ax.set_xticklabels(['']+L)\n",
    "ax.set_yticklabels(['']+P)\n",
    "ax.set_xlabel(\"minLeaf\")\n",
    "ax.set_ylabel(\"minParent\")\n",
    "ax.set_title(\"Validation AUC\")\n",
    "\n",
    "plt.show() \n",
    "\n",
    "print 'Validation AUC:',va_auc"
   ]
  },
  {
   "cell_type": "markdown",
   "metadata": {},
   "source": [
    "Recommend: minParent = 5; minLeaf = 9 "
   ]
  },
  {
   "cell_type": "markdown",
   "metadata": {},
   "source": [
    "# Problem 5: Neural Networks"
   ]
  },
  {
   "cell_type": "markdown",
   "metadata": {},
   "source": [
    "## Question 1: "
   ]
  },
  {
   "cell_type": "code",
   "execution_count": 83,
   "metadata": {},
   "outputs": [
    {
     "name": "stdout",
     "output_type": "stream",
     "text": [
      "tr_auc: [[ 0.64852701  0.63032935  0.65100651  0.67038987  0.68376407]\n",
      " [ 0.55799151  0.61380876  0.61684716  0.68014605  0.67360336]\n",
      " [ 0.4456614   0.61296364  0.4472259   0.56778625  0.38836514]\n",
      " [ 0.54485671  0.51841096  0.62125506  0.57280839  0.49886255]\n",
      " [ 0.45881692  0.57272498  0.54909212  0.54348489  0.42154185]]\n",
      "va_auc: [[ 0.64222248  0.62586307  0.64384423  0.65508423  0.66542124]\n",
      " [ 0.54760206  0.60713567  0.61143342  0.66641338  0.66332461]\n",
      " [ 0.44130412  0.60683947  0.44873277  0.55931188  0.39685233]\n",
      " [ 0.53776859  0.50984948  0.6167087   0.56890265  0.50272248]\n",
      " [ 0.45684577  0.57163414  0.54629433  0.53964789  0.4256257 ]]\n"
     ]
    }
   ],
   "source": [
    "layers = range(1,6,1) \n",
    "nodes = range(2,7,1) \n",
    "\n",
    "tr_auc = np.zeros((len(layers),len(nodes)))\n",
    "va_auc = np.zeros((len(layers),len(nodes)))\n",
    "\n",
    "\n",
    "for i, layer in enumerate(layers):\n",
    "    for j, node in enumerate(nodes):\n",
    "        nn = ml.nnet.nnetClassify()\n",
    "        size = [XtS.shape[1]] + layer*[node] + [2]\n",
    "        nn.init_weights(size, 'random', XtS, Yt)\n",
    "        nn.train(XtS, Yt, stopTol=1e-8, stepsize=.25, stopIter=300)\n",
    "        tr_auc[i][j] = nn.auc(XtS, Yt) \n",
    "        va_auc[i][j] = nn.auc(XvS, Yva)\n",
    "\n",
    "print \"tr_auc:\", tr_auc\n",
    "print \"va_auc:\", va_auc"
   ]
  },
  {
   "cell_type": "code",
   "execution_count": 84,
   "metadata": {},
   "outputs": [
    {
     "data": {
      "image/png": "[encoded data removed]",
      "text/plain": [
       "<matplotlib.figure.Figure at 0x10d462090>"
      ]
     },
     "metadata": {},
     "output_type": "display_data"
    }
   ],
   "source": [
    "f, ax = plt.subplots(1, 1, figsize=(8, 5))\n",
    "cax1 = ax.matshow(tr_auc, interpolation='nearest')\n",
    "f.colorbar(cax1)\n",
    "ax.set_xticklabels(['']+nodes)\n",
    "ax.set_yticklabels(['']+layers)\n",
    "\n",
    "plt.show()"
   ]
  },
  {
   "cell_type": "code",
   "execution_count": 86,
   "metadata": {},
   "outputs": [
    {
     "data": {
      "image/png": "[encoded data removed]",
      "text/plain": [
       "<matplotlib.figure.Figure at 0x10d3e2910>"
      ]
     },
     "metadata": {},
     "output_type": "display_data"
    }
   ],
   "source": [
    "f, ax = plt.subplots(1, 1, figsize=(8, 5))\n",
    "cax2 = ax.matshow(va_auc, interpolation='nearest')\n",
    "f.colorbar(cax2)\n",
    "ax.set_xticklabels(['']+nodes)\n",
    "ax.set_yticklabels(['']+layers)\n",
    "\n",
    "plt.show()"
   ]
  },
  {
   "cell_type": "markdown",
   "metadata": {},
   "source": [
    "Based on the results, I would recommend number of layers = 2, and number of nodes = 6."
   ]
  },
  {
   "cell_type": "markdown",
   "metadata": {},
   "source": [
    "## Question 2: Implementing a new activation function"
   ]
  },
  {
   "cell_type": "code",
   "execution_count": 78,
   "metadata": {},
   "outputs": [
    {
     "name": "stdout",
     "output_type": "stream",
     "text": [
      "Gaussian Train AUC: 0.5528\n",
      "Gaussian Validation AUC: 0.5560\n"
     ]
    }
   ],
   "source": [
    "## Use Gaussian as the activation function:\n",
    "sig = lambda z: np.atleast_2d(np.exp(-z**2/2))\n",
    "dsig = lambda z: np.atleast_2d(-z*np.exp(-z**2/2))\n",
    "\n",
    "nn = ml.nnet.nnetClassify()\n",
    "nn.init_weights([XtS.shape[1], 6, 6, 2], 'random', XtS, Yt)\n",
    "nn.setActivation('custom', sig, dsig)\n",
    "\n",
    "nn.train(XtS, Yt, stopTol=1e-8, stepsize=.25, stopIter=100)\n",
    "\n",
    "print(\"{0:>15}: {1:.4f}\".format('Gaussian Train AUC',nn.auc(XtS, Yt)))\n",
    "print(\"{0:>15}: {1:.4f}\".format('Gaussian Validation AUC', nn.auc(XvS, Yva)))\n"
   ]
  },
  {
   "cell_type": "code",
   "execution_count": 66,
   "metadata": {},
   "outputs": [
    {
     "name": "stdout",
     "output_type": "stream",
     "text": [
      " ReLu Train AUC: 0.4647\n",
      "ReLu Validation AUC: 0.4651\n"
     ]
    }
   ],
   "source": [
    "## Use reLu as the activation function:\n",
    "sig = lambda z: np.atleast_2d(np.maximum(0,z))\n",
    "dsig = lambda z: np.atleast_2d((z > 0) * 1 + (z <= 0) * 0)\n",
    "\n",
    "nn = ml.nnet.nnetClassify()\n",
    "nn.init_weights([XtS.shape[1], 6, 6, 2], 'random', XtS, Yt)\n",
    "nn.setActivation('custom', sig, dsig)\n",
    "\n",
    "nn.train(XtS, Yt, stopTol=1e-8, stepsize=.25, stopIter=100)\n",
    "\n",
    "print(\"{0:>15}: {1:.4f}\".format('ReLu Train AUC',nn.auc(XtS, Yt)))\n",
    "print(\"{0:>15}: {1:.4f}\".format('ReLu Validation AUC', nn.auc(XvS, Yva)))\n"
   ]
  },
  {
   "cell_type": "code",
   "execution_count": 17,
   "metadata": {},
   "outputs": [
    {
     "name": "stdout",
     "output_type": "stream",
     "text": [
      "Logistic Train AUC: 0.6429\n",
      "Logistic Validation AUC: 0.6395\n"
     ]
    }
   ],
   "source": [
    "nn = ml.nnet.nnetClassify()\n",
    "nn.init_weights([XtS.shape[1], 6, 6, 2], 'random', XtS, Yt)\n",
    "nn.setActivation('logistic')\n",
    "\n",
    "nn.train(XtS, Yt, stopTol=1e-8, stepsize=.25, stopIter=300)\n",
    "\n",
    "print(\"{0:>15}: {1:.4f}\".format('Logistic Train AUC',nn.auc(XtS, Yt)))\n",
    "print(\"{0:>15}: {1:.4f}\".format('Logistic Validation AUC', nn.auc(XvS, Yva)))\n"
   ]
  },
  {
   "cell_type": "code",
   "execution_count": 48,
   "metadata": {},
   "outputs": [
    {
     "name": "stdout",
     "output_type": "stream",
     "text": [
      "Htangent Train AUC: 0.6775\n",
      "Htangent Validation AUC: 0.6654\n"
     ]
    }
   ],
   "source": [
    "nn = ml.nnet.nnetClassify()\n",
    "nn.init_weights([XtS.shape[1], 6, 6, 2], 'random', XtS, Yt)\n",
    "nn.setActivation('htangent')\n",
    "\n",
    "nn.train(XtS, Yt, stopTol=1e-8, stepsize=.25, stopIter=300)\n",
    "\n",
    "print(\"{0:>15}: {1:.4f}\".format('Htangent Train AUC',nn.auc(XtS, Yt)))\n",
    "print(\"{0:>15}: {1:.4f}\".format('Htangent Validation AUC', nn.auc(XvS, Yva)))\n"
   ]
  },
  {
   "cell_type": "markdown",
   "metadata": {},
   "source": [
    "It seems using Hyperbolic Tangent as the activation function has the best performence on training and validation AUC."
   ]
  },
  {
   "cell_type": "markdown",
   "metadata": {},
   "source": [
    "# Problem 6: Conclusions"
   ]
  },
  {
   "cell_type": "code",
   "execution_count": 4,
   "metadata": {
    "collapsed": true
   },
   "outputs": [],
   "source": [
    "Xte = np.genfromtxt('data/X_test.txt', delimiter=None)"
   ]
  },
  {
   "cell_type": "code",
   "execution_count": 27,
   "metadata": {},
   "outputs": [
    {
     "name": "stdout",
     "output_type": "stream",
     "text": [
      "Dicision Tree AUC on All Data: 0.8910\n",
      "Dicision Tree AUC on All Data: 0.8941\n",
      "Dicision Tree AUC on All Data: 0.8968\n",
      "Dicision Tree AUC on All Data: 0.8989\n",
      "Dicision Tree AUC on All Data: 0.9004\n"
     ]
    }
   ],
   "source": [
    "\n",
    "learner = ml.dtree.treeClassify()\n",
    "learner.train(X, Y, maxDepth = 24, minParent = 5, minLeaf= 9)\n",
    "\n",
    "print(\"{0:>15}: {1:.4f}\".format('Dicision Tree AUC on All Data',learner.auc(X, Y)))\n",
    "\n",
    "learner = ml.dtree.treeClassify()\n",
    "learner.train(X, Y, maxDepth = 25, minParent = 5, minLeaf= 9)\n",
    "\n",
    "print(\"{0:>15}: {1:.4f}\".format('Dicision Tree AUC on All Data',learner.auc(X, Y)))\n",
    "\n",
    "learner = ml.dtree.treeClassify()\n",
    "learner.train(X, Y, maxDepth = 26, minParent = 5, minLeaf= 9)\n",
    "\n",
    "print(\"{0:>15}: {1:.4f}\".format('Dicision Tree AUC on All Data',learner.auc(X, Y)))\n",
    "\n",
    "learner = ml.dtree.treeClassify()\n",
    "learner.train(X, Y, maxDepth = 27, minParent = 5, minLeaf= 9)\n",
    "\n",
    "print(\"{0:>15}: {1:.4f}\".format('Dicision Tree AUC on All Data',learner.auc(X, Y)))\n",
    "\n",
    "learner = ml.dtree.treeClassify()\n",
    "learner.train(X, Y, maxDepth = 28, minParent = 5, minLeaf= 9)\n",
    "\n",
    "print(\"{0:>15}: {1:.4f}\".format('Dicision Tree AUC on All Data',learner.auc(X, Y)))\n"
   ]
  },
  {
   "cell_type": "code",
   "execution_count": 24,
   "metadata": {},
   "outputs": [
    {
     "name": "stdout",
     "output_type": "stream",
     "text": [
      "maxdepth =  15 Va AUC: 0.707762501055\n",
      "maxdepth =  16 Va AUC: 0.709872042695\n",
      "maxdepth =  17 Va AUC: 0.710395195102\n",
      "maxdepth =  18 Va AUC: 0.711301422328\n",
      "maxdepth =  19 Va AUC: 0.711590230285\n",
      "maxdepth =  20 Va AUC: 0.711972620492\n",
      "maxdepth =  21 Va AUC: 0.713263130677\n",
      "maxdepth =  22 Va AUC: 0.71313940464\n",
      "maxdepth =  23 Va AUC: 0.71369829855\n",
      "maxdepth =  24 Va AUC: 0.714549234622\n",
      "maxdepth =  25 Va AUC: 0.715021699306\n"
     ]
    }
   ],
   "source": [
    "lis = [15,16,17,18,19,20,21,22,23,24,25]\n",
    "\n",
    "for i,md in enumerate(lis):\n",
    "    learner = ml.dtree.treeClassify()\n",
    "    learner.train(Xtr, Ytr, maxDepth = md, minParent = 5, minLeaf= 9)\n",
    "    print \"maxdepth = \", md, \"Va AUC:\", learner.auc(Xva, Yva)\n"
   ]
  },
  {
   "cell_type": "code",
   "execution_count": 28,
   "metadata": {},
   "outputs": [
    {
     "name": "stdout",
     "output_type": "stream",
     "text": [
      "maxdepth =  26 Va AUC: 0.714141488751\n",
      "maxdepth =  27 Va AUC: 0.714157291778\n",
      "maxdepth =  28 Va AUC: 0.71410882731\n",
      "maxdepth =  29 Va AUC: 0.715142474426\n",
      "maxdepth =  30 Va AUC: 0.714276465765\n",
      "maxdepth =  31 Va AUC: 0.714255310817\n",
      "maxdepth =  32 Va AUC: 0.713707049928\n",
      "maxdepth =  33 Va AUC: 0.714316170524\n",
      "maxdepth =  34 Va AUC: 0.713921878055\n",
      "maxdepth =  35 Va AUC: 0.71381765723\n"
     ]
    }
   ],
   "source": [
    "lis = [26,27,28,29,30,31,32,33,34,35]\n",
    "\n",
    "for i,md in enumerate(lis):\n",
    "    learner = ml.dtree.treeClassify()\n",
    "    learner.train(Xtr, Ytr, maxDepth = md, minParent = 5, minLeaf= 9)\n",
    "    print \"maxdepth = \", md, \"Va AUC:\", learner.auc(Xva, Yva)\n"
   ]
  },
  {
   "cell_type": "code",
   "execution_count": 32,
   "metadata": {},
   "outputs": [
    {
     "name": "stdout",
     "output_type": "stream",
     "text": [
      "maxDepth: 24 mean Va AUC: 0.719175084193\n",
      "maxDepth: 25 mean Va AUC: 0.719408968918\n",
      "maxDepth: 26 mean Va AUC: 0.719448718089\n",
      "maxDepth: 27 mean Va AUC: 0.720157500149\n",
      "maxDepth: 28 mean Va AUC: 0.720106436077\n",
      "maxDepth: 29 mean Va AUC: 0.719626094824\n",
      "maxDepth: 30 mean Va AUC: 0.719871019591\n",
      "maxDepth: 31 mean Va AUC: 0.720167316034\n",
      "maxDepth: 32 mean Va AUC: 0.719607550047\n"
     ]
    }
   ],
   "source": [
    "lis = [24,25,26,27,28,29,30,31,32]\n",
    "auc = np.zeros(10)\n",
    "md_VaAuc = np.zeros(len(lis))\n",
    "\n",
    "for j, md in enumerate(lis):\n",
    "    for i in range(10):\n",
    "        Xti,Xvi,Yti,Yvi = ml.crossValidate(X,Y,10,i)\n",
    "        learner = ml.dtree.treeClassify()\n",
    "        learner.train(Xti, Yti, maxDepth = md, minParent = 5, minLeaf= 9)\n",
    "        auc[i] = learner.auc(Xvi, Yvi)\n",
    "    md_VaAuc[j] = np.mean(auc)\n",
    "    print \"maxDepth:\", md, \"mean Va AUC:\", md_VaAuc[j]\n",
    "    "
   ]
  },
  {
   "cell_type": "code",
   "execution_count": 33,
   "metadata": {},
   "outputs": [
    {
     "name": "stdout",
     "output_type": "stream",
     "text": [
      "maxDepth: 33 mean Va AUC: 0.719950047072\n"
     ]
    }
   ],
   "source": [
    "md = 33\n",
    "for i in range(10):\n",
    "    Xti,Xvi,Yti,Yvi = ml.crossValidate(X,Y,10,i)\n",
    "    learner = ml.dtree.treeClassify()\n",
    "    learner.train(Xti, Yti, maxDepth = md, minParent = 5, minLeaf= 9)\n",
    "    auc[i] = learner.auc(Xvi, Yvi)\n",
    "\n",
    "md_VaAuc[j] = np.mean(auc)\n",
    "print \"maxDepth:\", md, \"mean Va AUC:\", md_VaAuc[j]\n",
    "\n"
   ]
  },
  {
   "cell_type": "code",
   "execution_count": 34,
   "metadata": {
    "collapsed": true
   },
   "outputs": [],
   "source": [
    "learner = ml.dtree.treeClassify()\n",
    "learner.train(X, Y, maxDepth = 31, minParent = 5, minLeaf= 9)"
   ]
  },
  {
   "cell_type": "markdown",
   "metadata": {},
   "source": [
    "I choose decision tree with maxDepth = 15, minParent =5, and minLeaf = 9; Because it has the fastest running speed, and the values of hyper-parameter are determined by the validation AUC performance."
   ]
  },
  {
   "cell_type": "code",
   "execution_count": 35,
   "metadata": {
    "collapsed": true
   },
   "outputs": [],
   "source": [
    "Yte = np.vstack((np.arange(Xte.shape[0]), learner.predictSoft(Xte)[:,1])).T\n",
    "np.savetxt('Y_submit2.txt', Yte, '%d, %.2f', header='ID,Prob1', comments='', delimiter=',')"
   ]
  },
  {
   "cell_type": "markdown",
   "metadata": {},
   "source": [
    "Kaggle Username: Delta Method; Leaderboard AUC: 0.71356"
   ]
  },
  {
   "cell_type": "markdown",
   "metadata": {},
   "source": [
    "# Statement of Collaboration"
   ]
  },
  {
   "cell_type": "markdown",
   "metadata": {},
   "source": [
    "I have abided by the rules of conduct and academic honesty adoped by UC Irvine. I did not discuss the specific solutions to this homework with any person.\\\n",
    "\\newline\n",
    "Chenxi Wang\\\n",
    "\\newline\n",
    "10/31/2017"
   ]
  }
 ],
 "metadata": {
  "kernelspec": {
   "display_name": "Python 2",
   "language": "python",
   "name": "python2"
  },
  "language_info": {
   "codemirror_mode": {
    "name": "ipython",
    "version": 2
   },
   "file_extension": ".py",
   "mimetype": "text/x-python",
   "name": "python",
   "nbconvert_exporter": "python",
   "pygments_lexer": "ipython2",
   "version": "2.7.13"
  }
 },
 "nbformat": 4,
 "nbformat_minor": 2
}
